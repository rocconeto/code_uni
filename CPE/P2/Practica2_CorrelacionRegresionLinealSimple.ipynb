{
 "cells": [
  {
   "cell_type": "markdown",
   "id": "641adf7c",
   "metadata": {},
   "source": [
    "## PRÁCTICA 2 - Estadística Descriptiva Bivariante. Correlación y regresión lineal simple.\n",
    "\n",
    "Objetivos:\n",
    "\n",
    "Manejo básico de estadística en Python:\n",
    "    \n",
    "- Análisis descriptivo de una y dos variables\n",
    "    \n",
    "- Búsqueda de relación entre variables\n",
    "    \n",
    "- Realización de análisis estadísticos y generación de informes"
   ]
  },
  {
   "cell_type": "markdown",
   "id": "12209511",
   "metadata": {},
   "source": [
    "En esta práctica vamos a aprender a relacionar dos variables y analizar la regresión lineal simple entre dos variables. Para ello se va a utilizar el dataset `mpg`, utilizado en la Práctica 1 de estadística descriptiva básica. En esta práctica se va a aplicar la librería de Python `scipy` y sus módulos de correlación y regresión lineal."
   ]
  },
  {
   "cell_type": "code",
   "execution_count": null,
   "id": "defb8c09",
   "metadata": {},
   "outputs": [],
   "source": [
    "#Importamos las librerías que vamos a utilizar\n",
    "\n",
    "import pandas as pd\n",
    "import numpy as np\n",
    "import seaborn as sns\n",
    "import matplotlib.pyplot as plt\n",
    "\n",
    "from scipy.stats import pearsonr\n",
    "from sklearn.linear_model import LinearRegression\n",
    "from sklearn.model_selection import train_test_split\n",
    "from sklearn.metrics import r2_score\n",
    "from sklearn.metrics import mean_squared_error\n",
    "import statsmodels.api as sm\n",
    "import statsmodels.formula.api as smf\n",
    "from statsmodels.stats.anova import anova_lm"
   ]
  },
  {
   "cell_type": "markdown",
   "id": "a36b8883",
   "metadata": {},
   "source": [
    "#### 1. Regresión lineal simple y correlación de dos variables (presión y precipitación, peso y altura, potencia y aceleración). "
   ]
  },
  {
   "cell_type": "code",
   "execution_count": null,
   "id": "81219e94",
   "metadata": {},
   "outputs": [],
   "source": [
    "#1a. Generar la matriz de dispersión\n",
    "\n",
    "mpg = sns.load_dataset('mpg')\n",
    "\n",
    "#Quitad los NaN que hay en el dataset\n",
    "\n",
    "\n",
    "plt.scatter(mpg.horsepower, mpg.acceleration)\n",
    "\n"
   ]
  },
  {
   "cell_type": "code",
   "execution_count": null,
   "id": "d3fb0f63",
   "metadata": {},
   "outputs": [],
   "source": [
    "#1b. Regresión lineal simple.\n",
    "\n",
    "# División de los datos en train y test\n",
    "\n",
    "X = mpg.horsepower\n",
    "y = mpg.acceleration\n",
    "\n",
    "X_train, X_test, y_train, y_test = train_test_split(\n",
    "                                        X.values.reshape(-1,1),\n",
    "                                        y.values.reshape(-1,1),\n",
    "                                        train_size   = 0.95,\n",
    "                                        random_state = 1234,\n",
    "                                        shuffle      = True\n",
    "                                    )\n",
    "\n",
    "# Creación del modelo\n",
    "\n",
    "modelo = LinearRegression()\n",
    "modelo.fit(X = X_train.reshape(-1, 1), y = y_train)\n",
    "\n",
    "X_train = sm.add_constant(X_train, prepend=True)\n",
    "modelo = sm.OLS(endog=y_train, exog=X_train,)\n",
    "modelo = modelo.fit()\n",
    "print(modelo.summary())\n",
    "\n",
    "\n",
    "\n"
   ]
  },
  {
   "cell_type": "code",
   "execution_count": null,
   "id": "756e8ad0",
   "metadata": {},
   "outputs": [],
   "source": [
    "#1c. Correlación entre dos variables\n",
    "\n",
    "# Correlación lineal entre las dos variables\n",
    "\n",
    "corr_test = pearsonr(x = mpg.horsepower, y =  mpg.acceleration)\n",
    "print(\"Coeficiente de correlación de Pearson: \", corr_test[0])\n",
    "\n"
   ]
  },
  {
   "cell_type": "code",
   "execution_count": null,
   "id": "3bafb3b9",
   "metadata": {},
   "outputs": [],
   "source": [
    "#1d. Calculamos el intervalo de confianza para los coeficientes del modelo \n",
    "\n",
    "# Intervalos de confianza para los coeficientes del modelo\n",
    "# ==============================================================================\n",
    "modelo.conf_int(alpha=0.05)"
   ]
  },
  {
   "cell_type": "code",
   "execution_count": null,
   "id": "00712c86",
   "metadata": {},
   "outputs": [],
   "source": [
    "#1e. Calculamos las predicciones con intervalo de confianza al 95% de nuestro modelo previamente calculado\n",
    "\n",
    "# Predicciones con intervalo de confianza del 95%\n",
    "# ==============================================================================\n",
    "predicciones = modelo.get_prediction(exog = X_train).summary_frame(alpha=0.05)\n",
    "predicciones.head(4)"
   ]
  },
  {
   "cell_type": "code",
   "execution_count": null,
   "id": "bab76626",
   "metadata": {},
   "outputs": [],
   "source": [
    "#1f. Ploteamos nuestro modelo con su linea de regresión\n",
    "\n",
    "\n",
    "# Predicciones con intervalo de confianza del 95%\n",
    "# ==============================================================================\n",
    "predicciones = modelo.get_prediction(exog = X_train).summary_frame(alpha=0.05)\n",
    "predicciones['x'] = X_train[:, 1]\n",
    "predicciones['y'] = y_train\n",
    "predicciones = predicciones.sort_values('x')\n",
    "\n",
    "# Gráfico del modelo\n",
    "# ==============================================================================\n",
    "fig, ax = plt.subplots(figsize=(6, 3.84))\n",
    "\n",
    "ax.scatter(predicciones['x'], predicciones['y'], marker='o', color = \"gray\")\n",
    "ax.plot(predicciones['x'], predicciones[\"mean\"], linestyle='-', label=\"OLS\")\n",
    "ax.plot(predicciones['x'], predicciones[\"mean_ci_lower\"], linestyle='--', color='red', label=\"95% CI\")\n",
    "ax.plot(predicciones['x'], predicciones[\"mean_ci_upper\"], linestyle='--', color='red')\n",
    "ax.fill_between(predicciones['x'], predicciones[\"mean_ci_lower\"], predicciones[\"mean_ci_upper\"], alpha=0.1)\n",
    "ax.legend();"
   ]
  },
  {
   "cell_type": "markdown",
   "id": "8636f850",
   "metadata": {},
   "source": [
    "#### 2. El dataset `mpg` tiene varias variables sobre las características de un conjunto de coches:\n",
    "\n",
    "1. Haz un gráfico de dispersión con potencia y aceleración. ¿Es razonable predecir la potencia de un coche de esta muestra en función de su aceleración, o viceversa? Justifica tu respuesta. \n",
    "2. Utilizando la recta de regresión adecuada, ¿qué potencia se prevé para un coche que tenga una aceleración de 10 segundos?\n",
    "3. Utilizando la recta de regresión adecuada, ¿qué aceleración se prevé para un coche que tenga una potencia de 10 Cv?\n",
    "4. Un coche que tenga una aceleración de 17 segundos y una potencia de 130 Cv, ¿qué aceleración tendría un coche con una potencia de 300 Cv?\n",
    "5. Distingamos ahora los coches con cuatro y ocho cilindros. ¿Qué potencia se prevé para un coche con cuatro cilindros? ¿Y para un coche de ocho cilindros? ¿Hay diferencia en la aceleración entre estos dos tipos de cilindros?\n",
    "6. Analiza los residuos de los modelos anteriores\n",
    "7. Identificar y eliminar los puntos extraños (outliers) en el modelo del apartado b, comprobando su efecto en el análisis estadístico. Guardar los datos en un fichero aparte. \n",
    "8. Repetir los apartados 2), 3), 4), 5) y 6) con el nuevo modelo simplificado, comparando los resultados con el modelo completo.\n",
    "9. Realizar un estudio similar, a partir del modelo completo, para hallar una posible relación entre aceleración y peso. \n",
    "10. Repetir el apartado 9) con las variables desplazamiento y potencia. "
   ]
  },
  {
   "cell_type": "code",
   "execution_count": null,
   "id": "7c078d76",
   "metadata": {},
   "outputs": [],
   "source": []
  },
  {
   "cell_type": "code",
   "execution_count": null,
   "id": "7b337b15",
   "metadata": {},
   "outputs": [],
   "source": []
  },
  {
   "cell_type": "code",
   "execution_count": null,
   "id": "df3271db",
   "metadata": {},
   "outputs": [],
   "source": []
  },
  {
   "cell_type": "markdown",
   "id": "10ff3c8b",
   "metadata": {},
   "source": [
    "#### Realizar un informe con los análisis realizados de cada uno de los apartados anteriores y exportarlo en un fichero .PDF\n",
    "\n",
    "- El informe se realizará en un grupos de dos personas analizando los resultados obtenidos en cada uno de los apartados anteriores. Todas las gráficas deberán estar bien maquetadas: título, titulo en los ejes, ejes con un intervalo lógico y leyenda (si es el caso). El código empleado también se deberá incluir. \n",
    "\n",
    "- En el Moodle se encuentra un trabajo tipo para que tengáis de referencia. El archivo incluirá los nombres de todos autores en el siguiente formato:\n",
    "\n",
    "- Nombre del archivo: Practica2_ApellidosNombre1_ApellidosNombre2.pdf (extensión obligatoria en .pdf)\n",
    "\n",
    "- Se avisará en Moodle la fecha límite de entrega de este informe."
   ]
  },
  {
   "cell_type": "code",
   "execution_count": null,
   "id": "429d5490",
   "metadata": {},
   "outputs": [],
   "source": []
  }
 ],
 "metadata": {
  "kernelspec": {
   "display_name": "Python 3 (ipykernel)",
   "language": "python",
   "name": "python3"
  },
  "language_info": {
   "codemirror_mode": {
    "name": "ipython",
    "version": 3
   },
   "file_extension": ".py",
   "mimetype": "text/x-python",
   "name": "python",
   "nbconvert_exporter": "python",
   "pygments_lexer": "ipython3",
   "version": "3.10.12"
  }
 },
 "nbformat": 4,
 "nbformat_minor": 5
}
